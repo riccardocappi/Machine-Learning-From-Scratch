{
  "cells": [
    {
      "cell_type": "markdown",
      "metadata": {
        "id": "view-in-github",
        "colab_type": "text"
      },
      "source": [
        "<a href=\"https://colab.research.google.com/github/riccardocappi/Machine-Learning-From-Scratch/blob/main/Naive_Bayes_Text_Classifier_from_scratch.ipynb\" target=\"_parent\"><img src=\"https://colab.research.google.com/assets/colab-badge.svg\" alt=\"Open In Colab\"/></a>"
      ]
    },
    {
      "cell_type": "markdown",
      "source": [
        "###Lec 16 - Naive Bayes Text Classifier from scratch\n",
        "\n",
        "Implementation from scratch of a Multinomial Naive Bayes Text Classifier. The model is trained and tesetd on the twenty_newsgroup dataset from sklearn to perform text classification.\n",
        "\n"
      ],
      "metadata": {
        "id": "osXGKAYJLWLF"
      }
    },
    {
      "cell_type": "markdown",
      "source": [
        "###Importing"
      ],
      "metadata": {
        "id": "p3vFuY6zfRxC"
      }
    },
    {
      "cell_type": "code",
      "execution_count": 1,
      "metadata": {
        "id": "74-6e3jY7-6_"
      },
      "outputs": [],
      "source": [
        "import numpy as np\n",
        "from sklearn.feature_extraction.text import TfidfVectorizer\n",
        "from sklearn.datasets import fetch_20newsgroups\n",
        "from sklearn.metrics import accuracy_score"
      ]
    },
    {
      "cell_type": "markdown",
      "source": [
        "###Useful function"
      ],
      "metadata": {
        "id": "cpdDZbdofUo1"
      }
    },
    {
      "cell_type": "code",
      "execution_count": 2,
      "metadata": {
        "id": "W71JpTBN1oaE"
      },
      "outputs": [],
      "source": [
        "def group_data_by_target(targets):\n",
        "    \"\"\"\n",
        "    @param targets: a one-dimensional numpy array containing the target labels of each example\n",
        "    return value: a dictionary which associates to each target label the indices of the examples with\n",
        "                  that label in the training set\n",
        "    \"\"\"\n",
        "    grouped_data = {}\n",
        "    for i, y in enumerate(targets):\n",
        "        if y not in grouped_data:\n",
        "            grouped_data[y] = []\n",
        "        grouped_data[y].append(i)\n",
        "    return grouped_data"
      ]
    },
    {
      "cell_type": "markdown",
      "metadata": {
        "id": "z7hyVQZBttwe"
      },
      "source": [
        "###My implementation of Naive Bayes Text Classifier\n"
      ]
    },
    {
      "cell_type": "code",
      "execution_count": 3,
      "metadata": {
        "id": "6dAcc_cP0iPq"
      },
      "outputs": [],
      "source": [
        "class NBTextClassifier:\n",
        "    def __init__(self, alpha=1):\n",
        "        self.classes = None\n",
        "        self.features_probs = None\n",
        "        self.priors = None\n",
        "        self.alpha = alpha\n",
        "\n",
        "    def fit(self, X, y):\n",
        "        \"\"\"\n",
        "        @param X: a scipy.sparse.csr_matrix\n",
        "        @param y: a one-dimensional numpy array\n",
        "        \"\"\"\n",
        "        n_examples, n_features = X.shape\n",
        "        grouped_data = group_data_by_target(y)\n",
        "        self.classes = list(grouped_data.keys())\n",
        "        self.priors = np.zeros(shape=len(self.classes))\n",
        "        self.features_probs = np.zeros(shape=(len(self.classes), n_features))\n",
        "\n",
        "        for i, class_i in enumerate(self.classes):\n",
        "            data_class_i = X[grouped_data[class_i]]\n",
        "            prior_class_i = data_class_i.shape[0] / n_examples\n",
        "            self.priors[i] = prior_class_i\n",
        "            tot_features_count = data_class_i.sum()   # count of all features in class_i\n",
        "            features_count = np.array(data_class_i.sum(axis=0))[0]   # count of each feature x_j in class_i\n",
        "            for j, n_j in enumerate(features_count):\n",
        "                self.features_probs[i][j] = (self.alpha + n_j) / (tot_features_count + self.alpha * n_features)\n",
        "\n",
        "    def predict(self, X):\n",
        "        \"\"\"\n",
        "        @param X: a scipy.sparse.csr_matrix\n",
        "        return value: a numpy array containing the predicted class for each test example\n",
        "        \"\"\"\n",
        "        y_pred = []\n",
        "        log_features_probs = np.log(self.features_probs)\n",
        "        log_priors = np.log(self.priors)\n",
        "        for instance in X:\n",
        "            theta = instance.multiply(log_features_probs).sum(axis=1)\n",
        "            likelihood = [log_prior_class_i + theta[i] for i, log_prior_class_i in enumerate(log_priors)]\n",
        "            y_pred.append(self.classes[np.argmax(likelihood)])\n",
        "        return np.array(y_pred)\n"
      ]
    },
    {
      "cell_type": "markdown",
      "source": [
        "###Testing the model"
      ],
      "metadata": {
        "id": "ZzVMYgIDfXyv"
      }
    },
    {
      "cell_type": "code",
      "execution_count": 4,
      "metadata": {
        "id": "IAOLCdHjtxC1"
      },
      "outputs": [],
      "source": [
        "from sklearn.datasets import fetch_20newsgroups\n",
        "from sklearn.metrics import accuracy_score\n",
        "\n",
        "newsgroups_train = fetch_20newsgroups(subset='train')\n",
        "newsgroups_test = fetch_20newsgroups(subset='test')"
      ]
    },
    {
      "cell_type": "code",
      "execution_count": 5,
      "metadata": {
        "id": "3T1NxDtkx4sC"
      },
      "outputs": [],
      "source": [
        "X_train = newsgroups_train['data']\n",
        "y_train = newsgroups_train['target']\n",
        "X_test =  newsgroups_test['data']\n",
        "y_test =  newsgroups_test['target']"
      ]
    },
    {
      "cell_type": "code",
      "source": [
        "model = NBTextClassifier()\n",
        "vectorizer = TfidfVectorizer(stop_words='english')\n",
        "X_train_token_counts = vectorizer.fit_transform(X_train)\n",
        "\n",
        "print(\"Start training\")\n",
        "model.fit(X_train_token_counts, y_train)\n",
        "\n",
        "X_test_token_counts = vectorizer.transform(X_test)\n",
        "y_pred = model.predict(X_test_token_counts)\n",
        "print(\"Accuracy of Naive Bayes text classifier: \" + str(accuracy_score(y_test, y_pred)))\n"
      ],
      "metadata": {
        "id": "uHQRygAF0GnQ",
        "colab": {
          "base_uri": "https://localhost:8080/"
        },
        "outputId": "51ee02a8-4616-4e36-da2f-5a54e11133d9"
      },
      "execution_count": 6,
      "outputs": [
        {
          "output_type": "stream",
          "name": "stdout",
          "text": [
            "Start training\n",
            "Accuracy of Naive Bayes text classifier: 0.8169144981412639\n"
          ]
        }
      ]
    }
  ],
  "metadata": {
    "colab": {
      "provenance": [],
      "include_colab_link": true
    },
    "kernelspec": {
      "display_name": "Python 3",
      "name": "python3"
    },
    "language_info": {
      "name": "python"
    }
  },
  "nbformat": 4,
  "nbformat_minor": 0
}